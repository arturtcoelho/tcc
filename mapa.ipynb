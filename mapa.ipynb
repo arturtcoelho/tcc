{
 "cells": [
  {
   "cell_type": "code",
   "execution_count": null,
   "metadata": {},
   "outputs": [],
   "source": [
    "\n",
    "import pandas as pd\n",
    "import geopandas as gpd\n",
    "import matplotlib.pyplot as plt"
   ]
  },
  {
   "cell_type": "code",
   "execution_count": null,
   "metadata": {},
   "outputs": [],
   "source": [
    "df = pd.read_csv('data/areaverde.csv')\n",
    "df['Localidade'] = df['Localidade'].str.upper()\n",
    "df = df.set_index('Localidade')\n",
    "\n",
    "df2 = pd.read_csv('data/populacao.csv', index_col=False)\n",
    "df2['Localidade'] = df2['Localidade'].str.upper()\n",
    "\n",
    "df3 = pd.read_csv('data/renda.csv', index_col=False)\n",
    "df3['Localidade'] = df3['Localidade'].str.upper()\n",
    "\n",
    "df4 = pd.read_csv('data/covid.csv', index_col=False)\n",
    "df5 = pd.read_csv('data/dengue.csv', index_col=False)\n",
    "df6 = pd.read_csv('data/num_atendimentos.csv', index_col=False)\n",
    "df7 = pd.read_csv('data/num_unidades_saude.csv', index_col=False)\n",
    "df7['Localidade'] = df7['Localidade'].str.upper()\n",
    "\n",
    "\n",
    "df = df.merge(df2, on='Localidade', how='left')\n",
    "df = df.merge(df3, on='Localidade', how='left')\n",
    "\n",
    "df = df.merge(df4, on='Localidade', how='left')\n",
    "df = df.merge(df5, on='Localidade', how='left')\n",
    "df = df.merge(df6, on='Localidade', how='left')\n",
    "df = df.merge(df7, on='Localidade', how='left', suffixes=('_x1', '_x2'))\n",
    "\n",
    "df['Localidade'] = df['Localidade'].str.upper()\n",
    "\n",
    "# df['porcentagem_cobertura'] = df['area_verde'] / df['area']\n",
    "\n",
    "df['porcentagem_brancos'] = df['popBrancos'] / df['popTotal']\n",
    "df['porcentagem_adultos'] = df['pop15a64'] / df['popTotal']\n",
    "\n",
    "df['taxa_obitos_covid'] = df['num_obitos_covid'] / df['popTotal']\n",
    "df['taxa_atendimentos_covid'] = df['num_atendimentos_covid'] / df['popTotal']\n",
    "df['taxa_atendimentos_dengue'] = df['num_atendimentos_dengue'] / df['popTotal']\n",
    "df['taxa_atendimentos_saude'] = df['num_atendimentos_saude_ja'] / df['popTotal']\n",
    "df['taxa_unidades_saude'] = df['num_unidades_saude_bairro'] / df['popTotal']\n",
    "\n",
    "df = df.fillna(0)\n",
    "df\n"
   ]
  },
  {
   "cell_type": "code",
   "execution_count": null,
   "metadata": {},
   "outputs": [],
   "source": [
    "import ipywidgets as widgets\n",
    "from IPython.display import display\n",
    "\n",
    "\n",
    "gdf = gpd.read_file('DIVISA_DE_BAIRROS/DIVISA_DE_BAIRROS.shp')\n",
    "gdf = gdf.merge(df, left_on='NOME', right_on='Localidade', how='right')\n",
    "gdf['area'] = gdf.area\n",
    "gdf['area_verde'] = gdf['areasVerdesM2'].str.replace(',', '.').astype(float)\n",
    "\n",
    "# Convert numeric columns from string to float, handling comma decimal separator\n",
    "numeric_columns = gdf.select_dtypes(include=['object']).columns\n",
    "for col in numeric_columns:\n",
    "    try:\n",
    "        # Try converting comma decimal separator to period and convert to float\n",
    "        gdf[col] = gdf[col].str.replace(',', '.').astype(float)\n",
    "    except (AttributeError, ValueError):\n",
    "        # Skip if column can't be converted to float\n",
    "        continue\n",
    "\n",
    "\n",
    "w = widgets.Dropdown(\n",
    "    options=list(gdf),\n",
    "    value='Localidade',\n",
    "    description='Data:',\n",
    ")\n",
    "\n",
    "map_output = widgets.Output()\n",
    "\n",
    "display(w, map_output)"
   ]
  },
  {
   "cell_type": "code",
   "execution_count": 4,
   "metadata": {},
   "outputs": [],
   "source": [
    "from IPython.display import clear_output\n",
    "\n",
    "def update_map(change):\n",
    "    with map_output:\n",
    "        clear_output(wait=True)\n",
    "        display(gdf.explore(column=change.new, legend=True, legend_kwds={\"label\": change.new, \"orientation\": \"vertical\"}))\n",
    "\n",
    "w.observe(update_map, names='value')\n",
    "\n",
    "# Initial map display\n",
    "with map_output:\n",
    "    display(gdf.explore(column=w.value, legend=True, legend_kwds={\"label\": w.value, \"orientation\": \"vertical\"}))"
   ]
  },
  {
   "cell_type": "code",
   "execution_count": 5,
   "metadata": {},
   "outputs": [],
   "source": [
    "# Save the GeoDataFrame to a GeoJSON file\n",
    "# gdf.to_file(\"curitiba_bairros_completo.geojson\", driver='GeoJSON')\n"
   ]
  },
  {
   "cell_type": "code",
   "execution_count": 9,
   "metadata": {},
   "outputs": [
    {
     "name": "stderr",
     "output_type": "stream",
     "text": [
      "/tmp/ipykernel_353705/2523702804.py:8: UserWarning: Tight layout not applied. The bottom and top margins cannot be made large enough to accommodate all Axes decorations.\n",
      "  plt.tight_layout()\n",
      "/tmp/ipykernel_353705/2523702804.py:8: UserWarning: Tight layout not applied. The bottom and top margins cannot be made large enough to accommodate all Axes decorations.\n",
      "  plt.tight_layout()\n"
     ]
    }
   ],
   "source": [
    "# Create maps for each variable and save to file\n",
    "for column in gdf.columns:\n",
    "    if column != 'geometry':  # Skip the geometry column\n",
    "        fig, ax = plt.subplots(figsize=(12, 8))\n",
    "        gdf.plot(column=column, ax=ax, legend=True, cmap='viridis', edgecolor='grey', linewidth=0.2)\n",
    "        plt.title(f'Mapa de {column}')\n",
    "        plt.axis('off')\n",
    "        plt.tight_layout()\n",
    "        plt.savefig(f'maps/map_{column}.png', dpi=300, bbox_inches='tight')\n",
    "        plt.close(fig)  # Close the figure to free up memory"
   ]
  }
 ],
 "metadata": {
  "kernelspec": {
   "display_name": "Python 3",
   "language": "python",
   "name": "python3"
  },
  "language_info": {
   "codemirror_mode": {
    "name": "ipython",
    "version": 3
   },
   "file_extension": ".py",
   "mimetype": "text/x-python",
   "name": "python",
   "nbconvert_exporter": "python",
   "pygments_lexer": "ipython3",
   "version": "3.12.7"
  }
 },
 "nbformat": 4,
 "nbformat_minor": 2
}
